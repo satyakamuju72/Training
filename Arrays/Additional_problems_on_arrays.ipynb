{
  "nbformat": 4,
  "nbformat_minor": 0,
  "metadata": {
    "colab": {
      "name": "Additional problems on arrays.ipynb",
      "provenance": [],
      "authorship_tag": "ABX9TyMc1LB6t8tsNIzEJniUFSdd",
      "include_colab_link": true
    },
    "kernelspec": {
      "name": "python3",
      "display_name": "Python 3"
    },
    "language_info": {
      "name": "python"
    }
  },
  "cells": [
    {
      "cell_type": "markdown",
      "metadata": {
        "id": "view-in-github",
        "colab_type": "text"
      },
      "source": [
        "<a href=\"https://colab.research.google.com/github/satyakamuju72/Training/blob/main/Arrays/Additional_problems_on_arrays.ipynb\" target=\"_parent\"><img src=\"https://colab.research.google.com/assets/colab-badge.svg\" alt=\"Open In Colab\"/></a>"
      ]
    },
    {
      "cell_type": "code",
      "metadata": {
        "colab": {
          "base_uri": "https://localhost:8080/"
        },
        "id": "dkXvo-Wndz-K",
        "outputId": "f66aff1f-3b35-47a1-9aa6-22f171bec8e9"
      },
      "source": [
        "#Problem1\n",
        "\n",
        "def solve(ar, n):\n",
        "    tem1 = [i for i in ar if i < 0]\n",
        "    tem2 = [i for i in ar if i not in tem1]\n",
        "    res = tem1 + tem2\n",
        "    return \" \".join(str(i) for i in res)\n",
        "\n",
        "n = int(input())\n",
        "ar = list(map(int, input().split()))\n",
        "print(solve(ar, n))"
      ],
      "execution_count": null,
      "outputs": [
        {
          "output_type": "stream",
          "text": [
            "4\n",
            "-2 3 -3 2\n",
            "-2 -3 3 2\n"
          ],
          "name": "stdout"
        }
      ]
    },
    {
      "cell_type": "code",
      "metadata": {
        "colab": {
          "base_uri": "https://localhost:8080/"
        },
        "id": "XQjDcTwwKh3p",
        "outputId": "a1ad19c3-a2d4-4657-e8c7-efaa800ebcc3"
      },
      "source": [
        "#Problem2\n",
        "\n",
        "def solve(ar, n):\n",
        "    neg = [i for i in ar if i < 0]\n",
        "    pos = [i for i in ar if i not in neg]\n",
        "    res, j, k = [], 0, 0\n",
        "    for i in range(0, n):\n",
        "        if i % 2 == 0:\n",
        "            res.append(pos[j])\n",
        "            j += 1\n",
        "        else:\n",
        "            res.append(neg[k])\n",
        "            k += 1\n",
        "    return \" \".join(str(i) for i in res)\n",
        "\n",
        "n = int(input())\n",
        "ar = list(map(int, input().split()))\n",
        "print(solve(ar, n))"
      ],
      "execution_count": null,
      "outputs": [
        {
          "output_type": "stream",
          "text": [
            "9\n",
            "9 4 -2 -1 5 0 -5 -3 2\n",
            "9 -2 4 -1 5 -5 0 -3 2\n"
          ],
          "name": "stdout"
        }
      ]
    },
    {
      "cell_type": "code",
      "metadata": {
        "id": "PePK3yzOektL",
        "colab": {
          "base_uri": "https://localhost:8080/"
        },
        "outputId": "c75696e4-7f1b-4d59-8c43-a56e15b6b4f2"
      },
      "source": [
        "#Problem3\n",
        "def solve(arr, n):\n",
        "    mi = min(arr)\n",
        "    ma = max(arr)\n",
        "    temp = [0] * (ma - mi + 1)\n",
        "    for i in arr:\n",
        "        temp[i - mi] += 1\n",
        "    if(max(temp) <= n // 2):\n",
        "        return \"No majority element\"\n",
        "    return temp.index(max(temp)) + mi\n",
        "n = int(input())\n",
        "ar = list(map(int, input().split()))\n",
        "print(solve(ar, n))"
      ],
      "execution_count": null,
      "outputs": [
        {
          "output_type": "stream",
          "text": [
            "3\n",
            "1 2 3\n",
            "No majority element\n"
          ],
          "name": "stdout"
        }
      ]
    },
    {
      "cell_type": "code",
      "metadata": {
        "id": "jKODyUxwXo7M"
      },
      "source": [
        "#Problem3 simplified\n",
        "def solve(arr, n):\n",
        "    for i in arr:\n",
        "        if arr.count(i) > n // 2:\n",
        "            return i\n",
        "    return \"No majority element\"\n",
        "n = int(input())\n",
        "ar = list(map(int, input().split()))\n",
        "print(solve(ar, n))"
      ],
      "execution_count": null,
      "outputs": []
    },
    {
      "cell_type": "code",
      "metadata": {
        "colab": {
          "base_uri": "https://localhost:8080/"
        },
        "id": "V1kxxRjqUn-o",
        "outputId": "5c134e31-037a-47c3-cfd2-1e5911bfd715"
      },
      "source": [
        "#Problem4\n",
        "def solve(arr, n):\n",
        "    count = 0\n",
        "    res = 0\n",
        "    for i in arr:\n",
        "        if(i == 0 and count % 2 != 0):\n",
        "            continue\n",
        "        elif (i == 1 and count % 2 == 0):\n",
        "            continue\n",
        "        elif (i == count % 2):\n",
        "            res += 1\n",
        "            count += 1\n",
        "    return res\n",
        "n = int(input())\n",
        "ar = list(map(int, input().split()))\n",
        "print(solve(ar, n))"
      ],
      "execution_count": null,
      "outputs": [
        {
          "output_type": "stream",
          "text": [
            "6\n",
            "1 0 1 1 0 0\n",
            "3\n"
          ],
          "name": "stdout"
        }
      ]
    },
    {
      "cell_type": "code",
      "metadata": {
        "colab": {
          "base_uri": "https://localhost:8080/"
        },
        "id": "vSnsiTeSX-Jb",
        "outputId": "1f97577a-aa34-43c5-afdb-35c2ef00fa57"
      },
      "source": [
        "#problem5\n",
        "def solve(holes, hn, balls, bn):\n",
        "    limit = [i for i in range(1, hn + 1)]\n",
        "    res = []\n",
        "    for i in balls:\n",
        "        for j in range(hn -1 , -1, -1):\n",
        "            if (i <= holes[j] and limit[j] !=  0):\n",
        "                res.append(j + 1)\n",
        "                limit[j] -= 1\n",
        "                break\n",
        "        else:\n",
        "            res.append(0)\n",
        "    return res\n",
        "\n",
        "\n",
        "\n",
        "hn = int(input())\n",
        "holes = list(map(int, input().split()))\n",
        "bn = int(input())\n",
        "balls = list(map(int, input().split()))\n",
        "print(solve(holes, hn, balls, bn))"
      ],
      "execution_count": 2,
      "outputs": [
        {
          "output_type": "stream",
          "text": [
            "3\n",
            "21 3 6\n",
            "11\n",
            "20 15 5 7 10 4 2 1 3 6 8\n",
            "[1, 0, 3, 0, 0, 3, 3, 2, 2, 0, 0]\n"
          ],
          "name": "stdout"
        }
      ]
    },
    {
      "cell_type": "code",
      "metadata": {
        "colab": {
          "base_uri": "https://localhost:8080/"
        },
        "id": "MciOSIoPf1Z6",
        "outputId": "64229f03-6345-437e-8317-ffc64c1f353e"
      },
      "source": [
        "#problem6\n",
        "#volume = (4/3) * pi * (r ** 3)\n",
        "def solve(arr, n, k):\n",
        "    temp = 4 / 3 * 3.14\n",
        "    res = []\n",
        "    for i in arr:\n",
        "        res = list(map(lambda x:  x - (k / 100) * x,res)) #every day decrease of k% air\n",
        "        res.append(temp * (i ** 3))\n",
        "    return round(sum(res), 2)\n",
        "\n",
        "\n",
        "n = int(input())\n",
        "arr = sorted(list(map(int, input().split())))\n",
        "k = int(input())\n",
        "print(solve(arr, n, k))"
      ],
      "execution_count": 3,
      "outputs": [
        {
          "output_type": "stream",
          "text": [
            "5\n",
            "8 4 6 10 3\n",
            "10\n",
            "7117.88\n"
          ],
          "name": "stdout"
        }
      ]
    }
  ]
}