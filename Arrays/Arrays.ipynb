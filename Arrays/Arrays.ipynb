{
  "nbformat": 4,
  "nbformat_minor": 0,
  "metadata": {
    "colab": {
      "name": "Arrays.ipynb",
      "provenance": [],
      "authorship_tag": "ABX9TyPP5aeoZEmT/dQL92j0TWwM",
      "include_colab_link": true
    },
    "kernelspec": {
      "name": "python3",
      "display_name": "Python 3"
    },
    "language_info": {
      "name": "python"
    }
  },
  "cells": [
    {
      "cell_type": "markdown",
      "metadata": {
        "id": "view-in-github",
        "colab_type": "text"
      },
      "source": [
        "<a href=\"https://colab.research.google.com/github/satyakamuju72/Training/blob/main/Arrays/Arrays.ipynb\" target=\"_parent\"><img src=\"https://colab.research.google.com/assets/colab-badge.svg\" alt=\"Open In Colab\"/></a>"
      ]
    },
    {
      "cell_type": "code",
      "metadata": {
        "colab": {
          "base_uri": "https://localhost:8080/"
        },
        "id": "6aYxthAQRGr7",
        "outputId": "2f99d96b-1608-468a-da72-24245b099ce6"
      },
      "source": [
        "#1\n",
        "def solve(li):\n",
        "  ans = 0\n",
        "  temp = 0\n",
        "  for i in range(len(li)):\n",
        "    if li[i] == 1:\n",
        "      temp += 1\n",
        "      ans = max(temp, ans)\n",
        "    else:\n",
        "      temp = 0\n",
        "    \n",
        "  return ans\n",
        "ans = solve(list(map(int, input().split())))\n",
        "print(ans)"
      ],
      "execution_count": null,
      "outputs": [
        {
          "output_type": "stream",
          "text": [
            "1 1 1 1 0 1 0 1\n",
            "4\n"
          ],
          "name": "stdout"
        }
      ]
    },
    {
      "cell_type": "code",
      "metadata": {
        "colab": {
          "base_uri": "https://localhost:8080/"
        },
        "id": "sWz0ekJSUKbm",
        "outputId": "4d7ac953-5967-4920-839f-68302530fb46"
      },
      "source": [
        "#2 \n",
        "def solve(li):\n",
        "    res = 0\n",
        "    for i in li:\n",
        "        if len(i) % 2 == 0:\n",
        "            res += 1\n",
        "    return res\n",
        "print(solve(input().split()))\n"
      ],
      "execution_count": null,
      "outputs": [
        {
          "output_type": "stream",
          "text": [
            "0 0\n",
            "0\n"
          ],
          "name": "stdout"
        }
      ]
    },
    {
      "cell_type": "code",
      "metadata": {
        "colab": {
          "base_uri": "https://localhost:8080/"
        },
        "id": "9KStroLDTWG1",
        "outputId": "fb65aff0-bfca-4fff-b113-f5b49dd9693c"
      },
      "source": [
        "#3\n",
        "def solve(li):\n",
        "    res = []\n",
        "    for i in li:\n",
        "        res.append(i * i)\n",
        "    return sorted(res)\n",
        "print(solve(list(map(int, input().split()))))\n"
      ],
      "execution_count": null,
      "outputs": [
        {
          "output_type": "stream",
          "text": [
            "-4 -1 0 6 9\n",
            "[0, 1, 16, 36, 81]\n"
          ],
          "name": "stdout"
        }
      ]
    },
    {
      "cell_type": "code",
      "metadata": {
        "colab": {
          "base_uri": "https://localhost:8080/"
        },
        "id": "jbKDArQVUEoH",
        "outputId": "0d848bec-6a0a-4333-a81b-8f3f5da36b2c"
      },
      "source": [
        "#4\n",
        "def solve(li, k):\n",
        "    n = len(li)\n",
        "    for i in range(n - 1):\n",
        "        temp = k - li[i]\n",
        "        for j in range(i + 1, n):\n",
        "            if li[j] == temp: return [i, j]\n",
        "li = list(map(int, input().split()))\n",
        "print(solve(li,  int(input())))"
      ],
      "execution_count": null,
      "outputs": [
        {
          "output_type": "stream",
          "text": [
            "2 7 11 15\n",
            "9\n",
            "[0, 1]\n"
          ],
          "name": "stdout"
        }
      ]
    },
    {
      "cell_type": "code",
      "metadata": {
        "colab": {
          "base_uri": "https://localhost:8080/"
        },
        "id": "qsv4u0kGXF9v",
        "outputId": "9e8e92dc-b50c-43e1-f84d-6ccd9666a0cb"
      },
      "source": [
        "#5\n",
        "from math import sqrt\n",
        "def factors(n):\n",
        "    return [i for i in range(2, int(sqrt(n)) + 1)] + [1, n]\n",
        "\n",
        "def solve(li):\n",
        "    res = [i for i in li if sum(factors(i)) in li]\n",
        "    return sorted(res) if res else -1\n",
        "\n",
        "if __name__ == \"__main__\":\n",
        "    li = list(map(int, input().split()))\n",
        "    print(solve(li))"
      ],
      "execution_count": null,
      "outputs": [
        {
          "output_type": "stream",
          "text": [
            "1 2 4 7\n",
            "[1, 4]\n"
          ],
          "name": "stdout"
        }
      ]
    },
    {
      "cell_type": "code",
      "metadata": {
        "colab": {
          "base_uri": "https://localhost:8080/"
        },
        "id": "gmHeWkomYOi3",
        "outputId": "16892e19-9a26-43a0-a4e5-5cad951aa211"
      },
      "source": [
        "#6\n",
        "def solve(li):\n",
        "    res = []\n",
        "    for i in s:\n",
        "         li.append(int(i))\n",
        "    n = len(li)\n",
        "    for i in li[: n - 1]:\n",
        "        for j in li[1 : n]:\n",
        "            if j == i + 1 and str(i * j) in s:\n",
        "                res.append(i * j)\n",
        "    return res if res else -1\n",
        "s = input()\n",
        "li = []\n",
        "\n",
        "print(solve(li))"
      ],
      "execution_count": null,
      "outputs": [
        {
          "output_type": "stream",
          "text": [
            "123456\n",
            "[2, 6, 12]\n"
          ],
          "name": "stdout"
        }
      ]
    },
    {
      "cell_type": "code",
      "metadata": {
        "colab": {
          "base_uri": "https://localhost:8080/"
        },
        "id": "1CJBS-EMYOfU",
        "outputId": "9155fabf-4110-40a9-a542-57728b9888d4"
      },
      "source": [
        "#7\n",
        "import sys\n",
        "def solve(s):\n",
        "    li = set()\n",
        "    flag = -sys.maxsize - 1\n",
        "    for i in s:\n",
        "        if i.isnumeric(): \n",
        "            li.add(i)\n",
        "            if int(i) % 2 == 0:\n",
        "                flag = max(flag, int(i))\n",
        "    if flag != -sys.maxsize - 1:\n",
        "        flag = str(flag)\n",
        "        li = list(li)\n",
        "        li.remove(flag)\n",
        "        li = sorted(li, reverse=True)\n",
        "        li.append(flag)\n",
        "        return ''.join(li)\n",
        "    return -1\n",
        "print(solve(input()))"
      ],
      "execution_count": null,
      "outputs": [
        {
          "output_type": "stream",
          "text": [
            "%#76752#@\n",
            "7526\n"
          ],
          "name": "stdout"
        }
      ]
    },
    {
      "cell_type": "code",
      "metadata": {
        "colab": {
          "base_uri": "https://localhost:8080/"
        },
        "id": "1nYwmBsWYOcu",
        "outputId": "92f93194-bb40-4d14-9bd9-f93ae6c21af1"
      },
      "source": [
        "#8\n",
        "def sum_num(num):\n",
        "    sum = 0\n",
        "    for i in num:\n",
        "        sum += (int(i) ** 2)\n",
        "    return 1 if sum % 2 == 0 else 0\n",
        "def solve(s, num):\n",
        "    if(sum_num(num) == 1):\n",
        "        return s[-1] + s[:-1]\n",
        "    return s[2 : ] + s[: 2]\n",
        "\n",
        "li = list(map(str, input().split(',')))\n",
        "for i in li:\n",
        "    s, num = map(str,  i.split(':'))\n",
        "    print(solve(s, num))"
      ],
      "execution_count": null,
      "outputs": [
        {
          "output_type": "stream",
          "text": [
            "abcde:234,pqrs:246\n",
            "cdeab\n",
            "spqr\n"
          ],
          "name": "stdout"
        }
      ]
    },
    {
      "cell_type": "code",
      "metadata": {
        "colab": {
          "base_uri": "https://localhost:8080/"
        },
        "id": "eKnJUSw2YOZF",
        "outputId": "fc069a3d-4f50-4989-9a0e-0c59bb31518e"
      },
      "source": [
        "#9\n",
        "def solve(s):\n",
        "    temp=[]\n",
        "    for i in sorted(set(s.lower())):\n",
        "        idxs = [idx for idx in range(len(s)) if s[idx].lower()==i]\n",
        "        r=\"\"\n",
        "        for idx in idxs:\n",
        "            r+=s[idx]\n",
        "        temp.append(r)\n",
        "    res=\"\"\n",
        "    l=len(temp)\n",
        "    for i in range(l//2):\n",
        "        res+=temp[i]+temp[-(i+1)]\n",
        "    if l%2==1:  res+=temp[l//2]\n",
        "    return res\n",
        "s=input()\n",
        "print(solve(s))"
      ],
      "execution_count": null,
      "outputs": [
        {
          "output_type": "stream",
          "text": [
            "HelLoWOrld\n",
            "dWerHoOlLl\n"
          ],
          "name": "stdout"
        }
      ]
    },
    {
      "cell_type": "code",
      "metadata": {
        "colab": {
          "base_uri": "https://localhost:8080/"
        },
        "id": "nEE72vNDXF6W",
        "outputId": "19e009fe-bf7f-43b5-cdea-efb252e0c158"
      },
      "source": [
        "#10\n",
        "from itertools import combinations\n",
        "def solve(li, k):\n",
        "    res = 0\n",
        "    for i in combinations(li, 4):\n",
        "        if sum(i) == k:\n",
        "            res += 1\n",
        "    return res\n",
        "li = list(map(int, input().split(',')))\n",
        "k = int(input())\n",
        "print(solve(li, k))"
      ],
      "execution_count": null,
      "outputs": [
        {
          "output_type": "stream",
          "text": [
            "-1, 1, 0, 0, 2, -2\n",
            "0\n",
            "3\n"
          ],
          "name": "stdout"
        }
      ]
    },
    {
      "cell_type": "code",
      "metadata": {
        "colab": {
          "base_uri": "https://localhost:8080/"
        },
        "id": "zeWHSFAWXF3Z",
        "outputId": "cba4dc73-2e8a-43ef-b118-27aed0c81c7c"
      },
      "source": [
        "#11\n",
        "def solve(num):\n",
        "    while (num != num[:: -1]):\n",
        "        num =str(int(num) + int(num[::-1]))\n",
        "    return len(num)\n",
        "print(solve(input()))"
      ],
      "execution_count": null,
      "outputs": [
        {
          "output_type": "stream",
          "text": [
            "145\n",
            "3\n"
          ],
          "name": "stdout"
        }
      ]
    },
    {
      "cell_type": "code",
      "metadata": {
        "colab": {
          "base_uri": "https://localhost:8080/"
        },
        "id": "2VM_Gg-4XF0w",
        "outputId": "b9060def-de1b-4433-ee89-f5bafbaa5ba2"
      },
      "source": [
        "#12\n",
        "def solve(s):\n",
        "    res = \"\"\n",
        "    for i in range(1, len(s), 2):\n",
        "        res += str(int(s[i]) ** 2)\n",
        "        if(len(res) >= 4):\n",
        "            return res[:4]\n",
        "print(solve(input()))"
      ],
      "execution_count": null,
      "outputs": [
        {
          "output_type": "stream",
          "text": [
            "34567\n",
            "1636\n"
          ],
          "name": "stdout"
        }
      ]
    }
  ]
}