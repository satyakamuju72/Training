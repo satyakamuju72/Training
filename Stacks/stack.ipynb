{
  "nbformat": 4,
  "nbformat_minor": 0,
  "metadata": {
    "colab": {
      "name": "stack.ipynb",
      "provenance": [],
      "authorship_tag": "ABX9TyP+xgDgCyyrtHf16MRRIFnP",
      "include_colab_link": true
    },
    "kernelspec": {
      "name": "python3",
      "display_name": "Python 3"
    },
    "language_info": {
      "name": "python"
    }
  },
  "cells": [
    {
      "cell_type": "markdown",
      "metadata": {
        "id": "view-in-github",
        "colab_type": "text"
      },
      "source": [
        "<a href=\"https://colab.research.google.com/github/satyakamuju72/Training/blob/main/Stacks/stack.ipynb\" target=\"_parent\"><img src=\"https://colab.research.google.com/assets/colab-badge.svg\" alt=\"Open In Colab\"/></a>"
      ]
    },
    {
      "cell_type": "code",
      "metadata": {
        "colab": {
          "base_uri": "https://localhost:8080/"
        },
        "id": "RkXG4IDjU1ct",
        "outputId": "447d5592-601a-4ac0-a6f1-c9fe61cf8efb"
      },
      "source": [
        "#1\n",
        "s = input()\n",
        "stack = []\n",
        "res = \"\"\n",
        "for i in s:\n",
        "    if i != ']':\n",
        "        stack.append(i)\n",
        "    else:\n",
        "        temp = \"\"\n",
        "        while(stack[-1] != '['):\n",
        "            temp += stack.pop()\n",
        "        stack.pop()\n",
        "        temp =\"\".join(reversed(temp))\n",
        "        for i in range(int(stack.pop())):\n",
        "            stack.append(temp)\n",
        "        res = stack\n",
        "print(\"\".join(res))"
      ],
      "execution_count": null,
      "outputs": [
        {
          "output_type": "stream",
          "text": [
            "abc3[cd]xyz\n",
            "abccdcdcdxyz\n"
          ],
          "name": "stdout"
        }
      ]
    },
    {
      "cell_type": "code",
      "metadata": {
        "colab": {
          "base_uri": "https://localhost:8080/"
        },
        "id": "DU1lfFgooBSU",
        "outputId": "f0760c70-1c5e-4902-ed3e-e7b5828ce092"
      },
      "source": [
        "#2\n",
        "from collections import Counter \n",
        "\n",
        "def solve(s, n):\n",
        "    tem = []\n",
        "    freqs = Counter(s)\n",
        "    for i in s:\n",
        "        freqs[i] -= 1\n",
        "        if i not in tem:\n",
        "            while tem and tem[-1] > i and freqs[tem[-1]]:\n",
        "                tem.pop()\n",
        "            tem.append(i)\n",
        "    res = \"\".join(tem)\n",
        "    return res\n",
        "\n",
        "s = input()\n",
        "print(solve(s, len(s)))"
      ],
      "execution_count": 37,
      "outputs": [
        {
          "output_type": "stream",
          "text": [
            "cbacdcbc\n",
            "acdb\n"
          ],
          "name": "stdout"
        }
      ]
    },
    {
      "cell_type": "code",
      "metadata": {
        "colab": {
          "base_uri": "https://localhost:8080/"
        },
        "id": "iSsZoxHgxaiN",
        "outputId": "5635c6d5-f883-4ca6-e630-781d730d75eb"
      },
      "source": [
        "#3\n",
        "def solve(s, k):\n",
        "    for i in range(k):\n",
        "        if len(s) == 1:\n",
        "            print('0')\n",
        "            return\n",
        "        for j in range(len(s) - 1):\n",
        "            if s[j] > s[j + 1]:\n",
        "                s = s[: j] + s[ j + 1: ]\n",
        "                break\n",
        "    print(int(s))\n",
        "s = input()\n",
        "k = int(input())\n",
        "solve(s, k)"
      ],
      "execution_count": null,
      "outputs": [
        {
          "output_type": "stream",
          "text": [
            "10\n",
            "2\n",
            "0\n"
          ],
          "name": "stdout"
        }
      ]
    },
    {
      "cell_type": "code",
      "metadata": {
        "colab": {
          "base_uri": "https://localhost:8080/"
        },
        "id": "oeuzse1Ae1j9",
        "outputId": "0db43c98-7a9c-4de2-8cf8-788cb83eea15"
      },
      "source": [
        "#4\n",
        "def solve(s):\n",
        "    stack = []\n",
        "    for i in s:\n",
        "        if i == 'c':\n",
        "            if stack[-2:] == ['a', 'b']:\n",
        "                stack.pop()\n",
        "                stack.pop()\n",
        "            else:\n",
        "                return False\n",
        "        else:\n",
        "            stack.append(i)\n",
        "    return not stack\n",
        "print(solve(input()))"
      ],
      "execution_count": 14,
      "outputs": [
        {
          "output_type": "stream",
          "text": [
            "cabca\n",
            "False\n"
          ],
          "name": "stdout"
        }
      ]
    },
    {
      "cell_type": "code",
      "metadata": {
        "colab": {
          "base_uri": "https://localhost:8080/"
        },
        "id": "BrR7Vk72cd1E",
        "outputId": "4bb71028-1f56-46fe-8770-db6fd6935c24"
      },
      "source": [
        "#5\n",
        "nums = [1,1,0,1]\n",
        "k = 2\n",
        "indexs = [i for i, x in enumerate(nums) if x == 1]\n",
        "#print(indexs)\n",
        "n = len(indexs)\n",
        "st = []\n",
        "for i in range(n - 1):\n",
        "    for j in range(i + 1, n):\n",
        "        st.append(abs(indexs[j] - indexs[i] - 1))\n",
        "st = sorted(st, reverse=True)\n",
        "#print(st)\n",
        "res = 0\n",
        "for i in range(k - 1):\n",
        "    res += st.pop()\n",
        "print(res)"
      ],
      "execution_count": 38,
      "outputs": [
        {
          "output_type": "stream",
          "text": [
            "0\n"
          ],
          "name": "stdout"
        }
      ]
    }
  ]
}